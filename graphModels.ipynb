{
 "cells": [
  {
   "cell_type": "code",
   "execution_count": 18,
   "id": "0983f22d",
   "metadata": {},
   "outputs": [],
   "source": [
    "import graphviz as gp # might need to install package\n",
    "from graphviz import Digraph as digraph"
   ]
  },
  {
   "cell_type": "code",
   "execution_count": 20,
   "id": "e9688a6e",
   "metadata": {},
   "outputs": [
    {
     "data": {
      "text/plain": [
       "'x4y.pdf'"
      ]
     },
     "execution_count": 20,
     "metadata": {},
     "output_type": "execute_result"
    }
   ],
   "source": [
    "# good\n",
    "from graphviz import Digraph\n",
    "\n",
    "g = Digraph('G', filename='x4y')\n",
    "g.attr(compound='true')\n",
    "\n",
    "g.node('y', 'y')\n",
    "\n",
    "with g.subgraph(name='cluster0') as c:\n",
    "    \n",
    "    c.edge('x1', 'y')\n",
    "    c.edge('x2', 'y')\n",
    "    c.edge('x3', 'y')\n",
    "    c.edge('x4', 'y')\n",
    "    \n",
    "    c.attr(label='N',)\n",
    "\n",
    "\n",
    "# g.edge('e')    \n",
    "# g.edge('d', 'h')\n",
    "g.view()\n",
    "# g.render('BN-output/x4y.gv', view=True)  # doctest: +SKIP"
   ]
  },
  {
   "cell_type": "code",
   "execution_count": 21,
   "id": "055afa59",
   "metadata": {},
   "outputs": [
    {
     "data": {
      "text/plain": [
       "'x4yM.pdf'"
      ]
     },
     "execution_count": 21,
     "metadata": {},
     "output_type": "execute_result"
    }
   ],
   "source": [
    "# good\n",
    "from graphviz import Digraph\n",
    "\n",
    "g = Digraph('G', filename='x4yM')\n",
    "g.attr(compound='true')\n",
    "\n",
    "g.node('y', 'y')\n",
    "\n",
    "with g.subgraph(name='cluster0') as c:\n",
    "    \n",
    "    c.edge('x1', 'y', dir='none')\n",
    "    c.edge('x1', 'x2', dir='none')\n",
    "    c.edge('x1', 'x3', dir='none')\n",
    "    c.edge('x1', 'x4', dir='none')\n",
    "\n",
    "    c.edge('x2', 'y',dir='none')\n",
    "    c.edge('x2', 'x3',dir='none')\n",
    "    c.edge('x2', 'x4',dir='none')\n",
    "    \n",
    "    \n",
    "    c.edge('x3', 'y',dir='none')\n",
    "    c.edge('x3', 'x4',dir='none')\n",
    "    \n",
    "    c.edge('x4', 'y',dir='none')\n",
    "    \n",
    "    c.attr(label='N',)\n",
    "\n",
    "\n",
    "# g.edge('e')    \n",
    "# g.edge('d', 'h')\n",
    "g.view()\n",
    "# g.render('BN-output/x4y.gv', view=True)  # doctest: +SKIP"
   ]
  }
 ],
 "metadata": {
  "hide_input": false,
  "kernelspec": {
   "display_name": "Python 3",
   "language": "python",
   "name": "python3"
  },
  "language_info": {
   "codemirror_mode": {
    "name": "ipython",
    "version": 3
   },
   "file_extension": ".py",
   "mimetype": "text/x-python",
   "name": "python",
   "nbconvert_exporter": "python",
   "pygments_lexer": "ipython3",
   "version": "3.8.5"
  },
  "latex_envs": {
   "LaTeX_envs_menu_present": true,
   "autoclose": true,
   "autocomplete": true,
   "bibliofile": "biblio.bib",
   "cite_by": "apalike",
   "current_citInitial": 1,
   "eqLabelWithNumbers": true,
   "eqNumInitial": 1,
   "hotkeys": {
    "equation": "Ctrl-E",
    "itemize": "Ctrl-I"
   },
   "labels_anchors": false,
   "latex_user_defs": false,
   "report_style_numbering": true,
   "user_envs_cfg": false
  },
  "varInspector": {
   "cols": {
    "lenName": 16,
    "lenType": 16,
    "lenVar": "60"
   },
   "kernels_config": {
    "python": {
     "delete_cmd_postfix": "",
     "delete_cmd_prefix": "del ",
     "library": "var_list.py",
     "varRefreshCmd": "print(var_dic_list())"
    },
    "r": {
     "delete_cmd_postfix": ") ",
     "delete_cmd_prefix": "rm(",
     "library": "var_list.r",
     "varRefreshCmd": "cat(var_dic_list()) "
    }
   },
   "types_to_exclude": [
    "module",
    "function",
    "builtin_function_or_method",
    "instance",
    "_Feature"
   ],
   "window_display": false
  }
 },
 "nbformat": 4,
 "nbformat_minor": 5
}
